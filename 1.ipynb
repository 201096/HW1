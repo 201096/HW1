{
 "cells": [
  {
   "cell_type": "code",
   "execution_count": 1,
   "id": "0e3baf98-8176-4ee5-9150-0005f37a835c",
   "metadata": {},
   "outputs": [],
   "source": [
    "with open(\"zakaz.txt\", \"r\", encoding=\"utf-8\") as file:\n",
    "    lines = file.readlines()\n",
    "    \n",
    "    "
   ]
  },
  {
   "cell_type": "code",
   "execution_count": 2,
   "id": "8ef1fa4d-7af3-4bf1-b33a-2032dfdb151d",
   "metadata": {},
   "outputs": [],
   "source": [
    " with open(\"zakaz.txt\", \"w\", encoding=\"utf-8\") as file:\n",
    "    file.write(\"Наименование\\tКоличество\\tЦена\\n\")\n",
    "    file.write(\"Январь\\t1\\t31\\n\")\n",
    "    file.write(\"Февраль\\t2\\t29\\n\")\n",
    "    file.write(\"Март\\t3\\t30\\n\")\n",
    "    file.write(\"Апрель\\t4\\t31\\n\")\n",
    "    file.write(\"Май\\t5\\t30\\n\")\n",
    "    file.write(\"Июнь\\t6\\t31\\n\")\n",
    "    file.write(\"Июль\\t7\\t30\\n\")\n",
    "    file.write(\"Август\\t8\\t31\\n\")\n",
    "    file.write(\"Сентябрь\\t9\\t30\\n\")\n",
    "    file.write(\"Октябрь\\t10\\t31\\n\")\n",
    "    file.write(\"Ноябрь\\t11\\t30\\n\")\n",
    "    file.write(\"Декабрь\\t12\\t31\\n\")"
   ]
  },
  {
   "cell_type": "code",
   "execution_count": 4,
   "id": "1755d44b-c080-4036-b303-d26bcbdd72df",
   "metadata": {},
   "outputs": [
    {
     "name": "stdout",
     "output_type": "stream",
     "text": [
      "Ошибка: неверный формат цены в строке 'Наименование\tКоличество\tЦена\n",
      "'\n",
      "стоимость заказа: 365.00 тенге.\n"
     ]
    }
   ],
   "source": [
    "with open(\"zakaz.txt\", \"r\", encoding=\"utf-8\") as file:\n",
    "    lines = file.readlines()\n",
    "\n",
    "total_cost = 0\n",
    "\n",
    "for line in lines:\n",
    "    parts = line.strip().split(\"\\t\")\n",
    "    \n",
    "    if len(parts) == 3:\n",
    "        try:\n",
    "            price = float(parts[2])\n",
    "        except ValueError:\n",
    "            print(f\"Ошибка: неверный формат цены в строке '{line}'\")\n",
    "            continue \n",
    "            \n",
    "        total_cost += price\n",
    "\n",
    "print(f\"стоимость заказа: {total_cost:.2f} тенге.\")"
   ]
  },
  {
   "cell_type": "code",
   "execution_count": null,
   "id": "34f54b3f-be4b-435e-9cd2-bda95a56765a",
   "metadata": {},
   "outputs": [],
   "source": []
  }
 ],
 "metadata": {
  "kernelspec": {
   "display_name": "Python 3 (ipykernel)",
   "language": "python",
   "name": "python3"
  },
  "language_info": {
   "codemirror_mode": {
    "name": "ipython",
    "version": 3
   },
   "file_extension": ".py",
   "mimetype": "text/x-python",
   "name": "python",
   "nbconvert_exporter": "python",
   "pygments_lexer": "ipython3",
   "version": "3.9.7"
  }
 },
 "nbformat": 4,
 "nbformat_minor": 5
}
