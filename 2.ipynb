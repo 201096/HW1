{
 "cells": [
  {
   "cell_type": "code",
   "execution_count": 1,
   "id": "2cfa3e46-5117-45f8-8914-31178d596298",
   "metadata": {},
   "outputs": [],
   "source": [
    "import os \n",
    "import re "
   ]
  },
  {
   "cell_type": "code",
   "execution_count": null,
   "id": "a0b190f6-5b03-4997-a151-ee6bd42b374a",
   "metadata": {},
   "outputs": [],
   "source": [
    "def find_files_with_substring(search_query, directory=\".\"):\n",
    "    matching_files = []\n",
    "    "
   ]
  },
  {
   "cell_type": "code",
   "execution_count": 3,
   "id": "678dae25-e7dc-4359-9475-ce65ee93b986",
   "metadata": {},
   "outputs": [
    {
     "name": "stdin",
     "output_type": "stream",
     "text": [
      "Введите поисковый запрос:  небо\n"
     ]
    },
    {
     "name": "stdout",
     "output_type": "stream",
     "text": [
      "Найденные файлы:\n",
      "info.txt\n"
     ]
    }
   ],
   "source": [
    "\n",
    "# Функция для поиска файлов, содержащих подстроку\n",
    "def find_files_with_substring(search_query, directory=\".\"):\n",
    "    matching_files = []\n",
    "    \n",
    "    # Проходим по всем файлам в указанной директории\n",
    "    for filename in os.listdir(directory):\n",
    "        if filename.endswith(\".txt\"):  # Проверяем, что файл - текстовый\n",
    "            file_path = os.path.join(directory, filename)\n",
    "            try:\n",
    "                with open(file_path, \"r\", encoding=\"utf-8\") as file:\n",
    "                    file_contents = file.read()\n",
    "                    if re.search(search_query, file_contents, re.IGNORECASE):\n",
    "                        matching_files.append(filename)\n",
    "            except Exception as e:\n",
    "                print(f\"Ошибка при чтении файла {file_path}: {e}\")\n",
    "    \n",
    "    return matching_files\n",
    "\n",
    "# Запрашиваем у пользователя поисковый запрос\n",
    "search_query = input(\"Введите поисковый запрос: \")\n",
    "\n",
    "# Вызываем функцию для поиска файлов\n",
    "matching_files = find_files_with_substring(search_query)\n",
    "\n",
    "# Выводим список файлов, содержащих подстроку\n",
    "if matching_files:\n",
    "    print(\"Найденные файлы:\")\n",
    "    for filename in matching_files:\n",
    "        print(filename)\n",
    "else:\n",
    "    print(\"Файлы с указанной подстрокой не найдены.\")"
   ]
  },
  {
   "cell_type": "code",
   "execution_count": null,
   "id": "930760c7-421d-456f-b000-99f770d6cfe8",
   "metadata": {},
   "outputs": [],
   "source": []
  }
 ],
 "metadata": {
  "kernelspec": {
   "display_name": "Python 3 (ipykernel)",
   "language": "python",
   "name": "python3"
  },
  "language_info": {
   "codemirror_mode": {
    "name": "ipython",
    "version": 3
   },
   "file_extension": ".py",
   "mimetype": "text/x-python",
   "name": "python",
   "nbconvert_exporter": "python",
   "pygments_lexer": "ipython3",
   "version": "3.9.7"
  }
 },
 "nbformat": 4,
 "nbformat_minor": 5
}
