{
 "cells": [
  {
   "cell_type": "code",
   "execution_count": 21,
   "id": "168300cf-1ca2-4fbc-a3f8-975052734741",
   "metadata": {},
   "outputs": [],
   "source": [
    "def load_forbidden_words(filename):\n",
    "    try:\n",
    "        with open(filename, \"r\", encoding=\"utf-8\") as file:\n",
    "            forbidden_words = file.read().split()\n",
    "            return set(forbidden_words)\n",
    "    except FileNotFoundError:\n",
    "        print(f\"Файл '{filename}' с запрещенными словами не найден.\")\n",
    "        return set()"
   ]
  },
  {
   "cell_type": "code",
   "execution_count": 22,
   "id": "c269760e-8aa8-456b-afb2-b9e8eee10bf9",
   "metadata": {},
   "outputs": [],
   "source": [
    "def censor_text(input_text, forbidden_words):\n",
    "    words = input_text.split()\n",
    "    censored_words = []\n",
    "\n",
    "    for word in words:\n",
    "        word_lower = word.lower()\n",
    "        if word_lower in forbidden_words:\n",
    "            censored_word = '*' * len(word)\n",
    "            censored_words.append(censored_word)\n",
    "        else:\n",
    "            censored_words.append(word)\n",
    "\n",
    "    return ' '.join(censored_words)"
   ]
  },
  {
   "cell_type": "code",
   "execution_count": 24,
   "id": "55c3c0b7-5f71-4317-8aa8-665bdd218b03",
   "metadata": {},
   "outputs": [
    {
     "name": "stdin",
     "output_type": "stream",
     "text": [
      "file: info.txt\n"
     ]
    },
    {
     "name": "stdout",
     "output_type": "stream",
     "text": [
      "Уж **** осенью дышало, Уж реже солнышко блистало, Короче становился день, Лесов таинственная сень С печальным шумом обнажалась.\n"
     ]
    }
   ],
   "source": [
    "def main():\n",
    "    forbidden_words_filename = \"forb.txt\"\n",
    "    input_filename = input(\"file:\")\n",
    "\n",
    "    forbidden_words = load_forbidden_words(forbidden_words_filename)\n",
    "\n",
    "    try:\n",
    "        with open(input_filename, \"r\", encoding=\"utf-8\") as file:\n",
    "            text = file.read()\n",
    "            censored_text = censor_text(text, forbidden_words)\n",
    "            print(censored_text)\n",
    "    except FileNotFoundError:\n",
    "        print(f\"Файл '{input_filename}' не найден.\")\n",
    "\n",
    "if __name__ == \"__main__\":\n",
    "    main()\n",
    "#Программа сначала загружает запрещенные слова из файла \"forbidden_words.txt\".\n",
    "#Затем она запрашивает у пользователя название текстового файла, из которого нужно прочитать текст. \n",
    "#Программа читает текст из указанного файла, заменяет запрещенные слова звездочками и выводит на экран.\n",
    "#Если файл с запрещенными словами не найден или если файл с текстом не найден, программа выводит соответствующие сообщения.\n"
   ]
  },
  {
   "cell_type": "code",
   "execution_count": null,
   "id": "443aac81-9416-40ed-b32b-16408413a657",
   "metadata": {},
   "outputs": [],
   "source": []
  }
 ],
 "metadata": {
  "kernelspec": {
   "display_name": "Python 3 (ipykernel)",
   "language": "python",
   "name": "python3"
  },
  "language_info": {
   "codemirror_mode": {
    "name": "ipython",
    "version": 3
   },
   "file_extension": ".py",
   "mimetype": "text/x-python",
   "name": "python",
   "nbconvert_exporter": "python",
   "pygments_lexer": "ipython3",
   "version": "3.9.7"
  }
 },
 "nbformat": 4,
 "nbformat_minor": 5
}
