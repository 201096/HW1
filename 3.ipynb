{
 "cells": [
  {
   "cell_type": "code",
   "execution_count": 3,
   "id": "a4a21ced-7621-4765-b4e9-8384466dc37a",
   "metadata": {},
   "outputs": [],
   "source": [
    "with open(\"info.txt\", \"r\", encoding=\"utf-8\") as file:\n",
    "    text = file.read()"
   ]
  },
  {
   "cell_type": "code",
   "execution_count": 4,
   "id": "d7ae6bce-6467-4fed-b6b9-2d4951ac972e",
   "metadata": {},
   "outputs": [
    {
     "name": "stdout",
     "output_type": "stream",
     "text": [
      "Количество букв латинского алфавита: 0\n",
      "Количество слов: 18\n",
      "Количество строк: 5\n"
     ]
    }
   ],
   "source": [
    "latin_letters_count = sum(1 for char in text if char.isalpha() and char.isascii())\n",
    "\n",
    "# Подсчет слов\n",
    "words = text.split()\n",
    "word_count = len(words)\n",
    "\n",
    "# Подсчет строк\n",
    "line_count = text.count('\\n') + 1\n",
    "\n",
    "# Вывод статистики\n",
    "print(f\"Количество букв латинского алфавита: {latin_letters_count}\")\n",
    "print(f\"Количество слов: {word_count}\")\n",
    "print(f\"Количество строк: {line_count}\")"
   ]
  },
  {
   "cell_type": "code",
   "execution_count": 10,
   "id": "c8cdeccf-6c7c-4c8f-8507-dfbe7db39559",
   "metadata": {},
   "outputs": [],
   "source": [
    " with open(\"forb.txt\", \"w\", encoding=\"utf-8\") as file:\n",
    "    file.write(\"небо\\n\")\n",
    "    file.write(\"индивидуал\\n\")"
   ]
  },
  {
   "cell_type": "code",
   "execution_count": null,
   "id": "b89534f0-29cb-4004-920f-36fcc22f5353",
   "metadata": {},
   "outputs": [],
   "source": []
  },
  {
   "cell_type": "code",
   "execution_count": null,
   "id": "bfda221e-7168-4dd3-9611-a319b7932cfa",
   "metadata": {},
   "outputs": [],
   "source": []
  },
  {
   "cell_type": "code",
   "execution_count": null,
   "id": "10d65c9c-f165-4377-92f1-4aa80b205369",
   "metadata": {},
   "outputs": [],
   "source": []
  }
 ],
 "metadata": {
  "kernelspec": {
   "display_name": "Python 3 (ipykernel)",
   "language": "python",
   "name": "python3"
  },
  "language_info": {
   "codemirror_mode": {
    "name": "ipython",
    "version": 3
   },
   "file_extension": ".py",
   "mimetype": "text/x-python",
   "name": "python",
   "nbconvert_exporter": "python",
   "pygments_lexer": "ipython3",
   "version": "3.9.7"
  }
 },
 "nbformat": 4,
 "nbformat_minor": 5
}
