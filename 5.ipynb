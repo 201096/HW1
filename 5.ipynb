{
 "cells": [
  {
   "cell_type": "code",
   "execution_count": 1,
   "id": "b68a7edf-7b8f-4067-85f4-1a02fc7742a3",
   "metadata": {},
   "outputs": [],
   "source": [
    "import math \n"
   ]
  },
  {
   "cell_type": "code",
   "execution_count": 11,
   "id": "f907b4cc-2976-441a-a28f-080df1817d5c",
   "metadata": {},
   "outputs": [],
   "source": [
    "def solve_quadratic_equation(a, b, c):\n",
    "    discriminant = b**2 - 4*a*c\n",
    "    if discriminant < 0:\n",
    "        return None  # Уравнение не имеет корней\n",
    "    elif discriminant == 0:\n",
    "        x = -b / (2*a)\n",
    "        return x  # Уравнение имеет один корень\n",
    "    else:\n",
    "        x1 = (-b + math.sqrt(discriminant)) / (2*a)\n",
    "        x2 = (-b - math.sqrt(discriminant)) / (2*a)\n",
    "        return x1, x2  # Уравнение имеет два корня"
   ]
  },
  {
   "cell_type": "code",
   "execution_count": 12,
   "id": "6c93374c-5a5d-4d92-8129-f61469553a4b",
   "metadata": {},
   "outputs": [
    {
     "name": "stdout",
     "output_type": "stream",
     "text": [
      "Уравнение не имеет корней.\n"
     ]
    }
   ],
   "source": [
    "def main():\n",
    "    try:\n",
    "        with open(\"equation_input.txt\", \"r\", encoding=\"utf-8\") as file:\n",
    "            lines = file.readlines()\n",
    "\n",
    "        if len(lines) != 3:\n",
    "            print(\"Ошибка: Файл должен содержать 3 строки с коэффициентами a, b и c.\")\n",
    "            return\n",
    "\n",
    "        a = float(lines[0].strip())\n",
    "        b = float(lines[1].strip())\n",
    "        c = float(lines[2].strip())\n",
    "\n",
    "        roots = solve_quadratic_equation(a, b, c)\n",
    "\n",
    "        if roots is None:\n",
    "            print(\"Уравнение не имеет корней.\")\n",
    "        elif isinstance(roots, tuple):\n",
    "            print(f\"Уравнение имеет два корня: x1 = {roots[0]}, x2 = {roots[1]}.\")\n",
    "        else:\n",
    "            print(f\"Уравнение имеет один корень: x = {roots}.\")\n",
    "\n",
    "    except FileNotFoundError:\n",
    "        print(\"Ошибка: Файл 'equation_input.txt' не найден.\")\n",
    "    except ValueError:\n",
    "        print(\"Ошибка: Некорректные данные в файле. Проверьте, что все коэффициенты - числа.\")\n",
    "\n",
    "if __name__ == \"__main__\":\n",
    "    main()\n",
    "    "
   ]
  },
  {
   "cell_type": "code",
   "execution_count": 9,
   "id": "a9bb1c48-63e9-400a-b145-28f5f646d48f",
   "metadata": {},
   "outputs": [],
   "source": [
    "with open(\"equation_input.txt\", \"w\", encoding=\"utf-8\") as file:\n",
    "    file.write(\"2\\n\")\n",
    "    file.write(\"1\\n\")\n",
    "    file.write(\"5\\n\")"
   ]
  },
  {
   "cell_type": "code",
   "execution_count": null,
   "id": "37e3f74d-543e-41e0-8f6a-ed68413a50fc",
   "metadata": {},
   "outputs": [],
   "source": []
  }
 ],
 "metadata": {
  "kernelspec": {
   "display_name": "Python 3 (ipykernel)",
   "language": "python",
   "name": "python3"
  },
  "language_info": {
   "codemirror_mode": {
    "name": "ipython",
    "version": 3
   },
   "file_extension": ".py",
   "mimetype": "text/x-python",
   "name": "python",
   "nbconvert_exporter": "python",
   "pygments_lexer": "ipython3",
   "version": "3.9.7"
  }
 },
 "nbformat": 4,
 "nbformat_minor": 5
}
